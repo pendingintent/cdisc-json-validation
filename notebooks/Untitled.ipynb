{
 "cells": [
  {
   "cell_type": "code",
   "execution_count": 1,
   "id": "e81b508a-91b4-4188-bb00-77e8786091ab",
   "metadata": {},
   "outputs": [],
   "source": [
    "import os"
   ]
  },
  {
   "cell_type": "code",
   "execution_count": 4,
   "id": "179867c0-0185-4588-ad74-024c173ca14d",
   "metadata": {},
   "outputs": [
    {
     "data": {
      "text/plain": [
       "['docker-compose.yaml',\n",
       " 'docker-compose.yaml.old',\n",
       " '.DS_Store',\n",
       " 'requirements.txt',\n",
       " 'python',\n",
       " 'Untitled.ipynb',\n",
       " 'Dockerfile',\n",
       " 'convert.py',\n",
       " 'README.md',\n",
       " 'schema',\n",
       " 'validate.py',\n",
       " 'usdm-json',\n",
       " '.gitignore',\n",
       " '.env',\n",
       " '.ipynb_checkpoints',\n",
       " 'venv',\n",
       " '.git',\n",
       " 'validatation_utility.py']"
      ]
     },
     "execution_count": 4,
     "metadata": {},
     "output_type": "execute_result"
    }
   ],
   "source": [
    "os.listdir('/notebook')"
   ]
  }
 ],
 "metadata": {
  "kernelspec": {
   "display_name": "Python 3 (ipykernel)",
   "language": "python",
   "name": "python3"
  },
  "language_info": {
   "codemirror_mode": {
    "name": "ipython",
    "version": 3
   },
   "file_extension": ".py",
   "mimetype": "text/x-python",
   "name": "python",
   "nbconvert_exporter": "python",
   "pygments_lexer": "ipython3",
   "version": "3.12.3"
  }
 },
 "nbformat": 4,
 "nbformat_minor": 5
}
