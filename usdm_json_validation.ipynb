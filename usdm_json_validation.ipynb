{
 "cells": [
  {
   "cell_type": "markdown",
   "id": "dcc23794-d86d-46c2-88a5-de6912eb6e03",
   "metadata": {},
   "source": [
    "# CDISC USDM JSON Validation Utility #"
   ]
  },
  {
   "cell_type": "markdown",
   "id": "21a5681d-1c17-40a2-8ec3-68e3d1c0f92a",
   "metadata": {},
   "source": [
    "The CDISC JSON Validation Utility will validate a selected USDM JSON study definition file against the indicated JSON schema."
   ]
  },
  {
   "cell_type": "markdown",
   "id": "d2865743-67c2-43f0-8377-3b8a0321243b",
   "metadata": {},
   "source": [
    "## Usage ##"
   ]
  },
  {
   "cell_type": "markdown",
   "id": "17ed09d5-3dc6-4c25-98df-f0c10280fd92",
   "metadata": {
    "jp-MarkdownHeadingCollapsed": true
   },
   "source": [
    "### To convert a YAML schema into JSON ###\n",
    "```\n",
    "python convert.py schema/USDM_API_v3.11.0.yaml -o schema/USDM_API_v3.11.0.json\n",
    "```\n",
    "\n",
    "### To validate a USDM JSON file with the version 4.0.0 schema ###\n",
    "```\n",
    "python validate.py usdm-json/te.json\n",
    "```\n",
    "\n",
    "### To validate a USDM JSON file with the version 3.11.0 schema ###\n",
    "```\n",
    "python validate.py usdm-json/te.json --schema-version v3\n",
    "```\n",
    "\n",
    "### To validate against a specific schema file and schema name ###\n",
    "```\n",
    "python validate.py usdm-json/te.json --schema-file path/to/schema.json --schema-name Wrapper-Input\n",
    "```\n",
    "\n",
    "#### Usage Note\n",
    "You can use `--schema-file` to specify any OpenAPI JSON or YAML schema file, and `--schema-name` to select the schema object within that file. This allows validation against custom or alternate USDM schema files.\n",
    "\n",
    "#### Schema Files\n",
    "All USDM API files contained in the schema directory are from the DDF github repository https://github.com/cdisc-org/DDF-RA"
   ]
  },
  {
   "cell_type": "markdown",
   "id": "27f2cd1e-117e-4b60-9096-d410b02544bc",
   "metadata": {},
   "source": [
    "## Instructions ##"
   ]
  },
  {
   "cell_type": "markdown",
   "id": "37e42c1e-3924-459d-95e1-a4a4e296ae9a",
   "metadata": {},
   "source": [
    "**1. Validate an invalid JSON file**"
   ]
  },
  {
   "cell_type": "code",
   "execution_count": null,
   "id": "879aae2c-fe61-4179-b2d4-f33b9d214268",
   "metadata": {},
   "outputs": [
    {
     "ename": "",
     "evalue": "",
     "output_type": "error",
     "traceback": [
      "\u001b[1;31mRunning cells with 'Python 3.12.11' requires the ipykernel package.\n",
      "\u001b[1;31mInstall 'ipykernel' into the Python environment. \n",
      "\u001b[1;31mCommand: '/opt/homebrew/bin/python3.12 -m pip install ipykernel -U --user --force-reinstall'"
     ]
    }
   ],
   "source": [
    "!python validate.py usdm-json/te.json --schema-file=schema/USDM_API_v4.0.0.json"
   ]
  },
  {
   "cell_type": "markdown",
   "id": "d7b00c6e-d0c6-4a36-9790-687e61a20678",
   "metadata": {},
   "source": [
    "**The JSON file is not a valid USDM study definition file**"
   ]
  },
  {
   "cell_type": "markdown",
   "id": "6f0ae223-a509-4949-96c7-873a5ef2ef42",
   "metadata": {},
   "source": [
    "**2. Validate USDM JSON file**"
   ]
  },
  {
   "cell_type": "code",
   "execution_count": null,
   "id": "f742aa79-b325-473b-ab40-6da52ce694e9",
   "metadata": {},
   "outputs": [
    {
     "ename": "",
     "evalue": "",
     "output_type": "error",
     "traceback": [
      "\u001b[1;31mRunning cells with 'Python 3.12.11' requires the ipykernel package.\n",
      "\u001b[1;31mInstall 'ipykernel' into the Python environment. \n",
      "\u001b[1;31mCommand: '/opt/homebrew/bin/python3.12 -m pip install ipykernel -U --user --force-reinstall'"
     ]
    }
   ],
   "source": [
    "!python validate.py usdm-json/LZZT_usdm_v4.json --schema-file=schema/USDM_API_v4.0.0.json"
   ]
  },
  {
   "cell_type": "markdown",
   "id": "5dd37ef4-d7e0-44e5-97ea-62cf85a8e39b",
   "metadata": {},
   "source": [
    "**File shows \"Validation Successful\"**"
   ]
  }
 ],
 "metadata": {
  "kernelspec": {
   "display_name": "Python 3",
   "language": "python",
   "name": "python3"
  },
  "language_info": {
   "codemirror_mode": {
    "name": "ipython",
    "version": 3
   },
   "file_extension": ".py",
   "mimetype": "text/x-python",
   "name": "python",
   "nbconvert_exporter": "python",
   "pygments_lexer": "ipython3",
   "version": "3.12.11"
  }
 },
 "nbformat": 4,
 "nbformat_minor": 5
}
